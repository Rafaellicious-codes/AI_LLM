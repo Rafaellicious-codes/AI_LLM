{
  "cells": [
    {
      "cell_type": "code",
      "execution_count": null,
      "metadata": {
        "id": "_qav_UO1VZkB"
      },
      "outputs": [],
      "source": [
        "# let's install the packages we need first\n",
        "%%capture\n",
        "!pip install openai langchain-openai langchain-community langchain-core"
      ]
    },
    {
      "cell_type": "code",
      "execution_count": null,
      "metadata": {
        "id": "ZXUwB7HUwLlL"
      },
      "outputs": [],
      "source": [
        "from langchain_openai import ChatOpenAI\n",
        "from langchain.prompts import PromptTemplate\n",
        "from langchain.chains import LLMChain\n",
        "import os"
      ]
    },
    {
      "cell_type": "code",
      "execution_count": null,
      "metadata": {
        "id": "y2f6paXo-w_z"
      },
      "outputs": [],
      "source": [
        "import warnings\n",
        "warnings.filterwarnings('ignore')"
      ]
    },
    {
      "cell_type": "code",
      "execution_count": null,
      "metadata": {
        "id": "dsSsTnF6wPn2"
      },
      "outputs": [],
      "source": [
        "# Set OpenAI API Key for today\n",
        "os.environ[\"OPENAI_API_KEY\"] = ***insert open ai API key here ***"
      ]
    },
    {
      "cell_type": "markdown",
      "metadata": {
        "id": "dBMWtP5ZyRzV"
      },
      "source": [
        "**LangChain** is a framework designed to build applications powered by large language models (LLMs). One of its core components is the *Chain*, which represents a structured sequence of operations where inputs are processed through a series of steps to generate meaningful outputs.\n",
        "\n",
        "**What is a Chain?**\n",
        "\n",
        "A *Chain* in LangChain is a modular pipeline that takes an input (e.g., a user query), processes it through different components (such as prompt templates, LLM calls, or memory storage), and produces an output. This structure allows for flexibility, composability, and control when interacting with LLMs."
      ]
    },
    {
      "cell_type": "markdown",
      "metadata": {
        "id": "1SDZnk4Ptxp3"
      },
      "source": [
        "First you define a Prompt template. This is a generic mechanism to have a Prompt with variables, like the one you used in the previous practical to import a document. In this simple example we define the Prompt in the function itself rather than through a f\"\"\" syntax. If you want to do it through a f\"\"\" syntax:\n",
        "\n",
        "`template = f\"\"\" this is a question about {var} \"\"\"`\n",
        "\n",
        " you need to instantiate the variables {vars} before activating the template cell, and then call the function in this way:\n",
        "\n",
        "`prompt = PromptTemplate.from_template(template)`"
      ]
    },
    {
      "cell_type": "code",
      "execution_count": null,
      "metadata": {
        "id": "pOdSDiIYwX9d"
      },
      "outputs": [],
      "source": [
        "# Define a prompt template with a variable\n",
        "prompt = PromptTemplate.from_template(\"What is the capital of {country}?\")"
      ]
    },
    {
      "cell_type": "markdown",
      "metadata": {
        "id": "AvsuF8oAvEDF"
      },
      "source": [
        "Then you define the LLM parameter for the Chain by choosing the model. ChatOpenAI is a LanghChain function."
      ]
    },
    {
      "cell_type": "code",
      "execution_count": null,
      "metadata": {
        "id": "faep6L1Zww-g"
      },
      "outputs": [],
      "source": [
        "# Load an LLM (e.g., OpenAI's GPT-4)\n",
        "llm = ChatOpenAI(model=\"gpt-4o-mini\")"
      ]
    },
    {
      "cell_type": "markdown",
      "metadata": {
        "id": "jUM_5HMEvP8o"
      },
      "source": [
        "Nex you create the `chain` using the LangChain function `LLMChain`. Note that in future versions this will be deprecated but this one is the simplest one for a quick intriduction to the concept."
      ]
    },
    {
      "cell_type": "code",
      "execution_count": null,
      "metadata": {
        "id": "jpvOqBJMwzT1"
      },
      "outputs": [],
      "source": [
        "# Create the chain\n",
        "chain = LLMChain(llm=llm, prompt=prompt)"
      ]
    },
    {
      "cell_type": "markdown",
      "metadata": {
        "id": "ASqFYlv3vkYF"
      },
      "source": [
        "Finally, you 'run' the chain. You only need to input the variable which was in the Prompt."
      ]
    },
    {
      "cell_type": "code",
      "execution_count": null,
      "metadata": {
        "colab": {
          "base_uri": "https://localhost:8080/"
        },
        "id": "ATGIcB1mw12z",
        "outputId": "8addff9b-a07a-4b8e-93df-1b7cb58741aa"
      },
      "outputs": [
        {
          "name": "stdout",
          "output_type": "stream",
          "text": [
            "{'country': 'Italy', 'text': 'The capital of Italy is Rome.'}\n"
          ]
        }
      ],
      "source": [
        "# Run the chain\n",
        "response = chain.invoke({\"country\": \"Italy\"})\n",
        "print(response)"
      ]
    },
    {
      "cell_type": "markdown",
      "metadata": {
        "id": "QlOIMW3_4tkL"
      },
      "source": [
        "# Prompt Routing"
      ]
    },
    {
      "cell_type": "markdown",
      "metadata": {
        "id": "FgjPvaD22KbI"
      },
      "source": [
        "One way to deal with complex queries is to defi**N**e specialised Prompts. If you want to write a generic Prompt covering all topics the prompt might get lengthy and complex but the precision of responses might also vary. By directing prompts to models specialized in a given domain (e.g., legal, medical, technical), responses become more precise and contextually appropriate. You can also define styles for responding depending on the query."
      ]
    },
    {
      "cell_type": "code",
      "execution_count": null,
      "metadata": {
        "id": "DGSJ5PoS_ZYd"
      },
      "outputs": [],
      "source": [
        "from langchain.chains.router.multi_prompt import MultiPromptChain\n",
        "from langchain_openai import ChatOpenAI\n",
        "\n",
        "llm = ChatOpenAI(model=\"gpt-4o-mini\")"
      ]
    },
    {
      "cell_type": "markdown",
      "metadata": {
        "id": "A6w6wUq1y-MK"
      },
      "source": [
        "Here you define templates for all separate prompts you need. You also need to define a generic Prompt template when none of the specialised ones get recognised."
      ]
    },
    {
      "cell_type": "code",
      "execution_count": null,
      "metadata": {
        "id": "ZuAH7H77_kxh"
      },
      "outputs": [],
      "source": [
        "prompt_1_template = \"\"\"\n",
        "You are an expert programmer. Generate concise but readable code. \\\n",
        "Unless otherwise specified, you should only answer in Python. \\\n",
        "Produce code as requested:\n",
        "\n",
        "{input}\n",
        "\"\"\"\n",
        "\n",
        "prompt_2_template = \"\"\"\n",
        "You are an expert on digital marketing.\n",
        "You will answer in rhymes:\n",
        "{input}\n",
        "\"\"\"\n",
        "\n",
        "# Default prompt template (this could be something like a general FAQ)\n",
        "default_prompt_template = \"\"\"\n",
        "Please provide a general answer to the following query:\n",
        "\n",
        "{input}\n",
        "\"\"\""
      ]
    },
    {
      "cell_type": "markdown",
      "metadata": {
        "id": "yPpkgI6Bzmh2"
      },
      "source": [
        "You then define Prompt information that will be used for Prompt selection. Here the query will be matched to the Prompt's \"name\" field as the main topic."
      ]
    },
    {
      "cell_type": "code",
      "execution_count": null,
      "metadata": {
        "id": "I-R8HsG__6ds"
      },
      "outputs": [],
      "source": [
        "prompt_infos = [\n",
        "    {\n",
        "        \"name\": \"programming\",\n",
        "        \"description\": \"prompt for code generation\",\n",
        "        \"prompt_template\": prompt_1_template,\n",
        "    },\n",
        "    {\n",
        "        \"name\": \"marketing\",\n",
        "        \"description\": \"prompt for marketing advice\",\n",
        "        \"prompt_template\": prompt_2_template,\n",
        "    },\n",
        "]\n",
        "\n",
        "# Add default prompt as a fallback option\n",
        "default_prompt_info = {\n",
        "    \"name\": \"default\",\n",
        "    \"description\": \"default general prompt\",\n",
        "    \"prompt_template\": default_prompt_template,\n",
        "}"
      ]
    },
    {
      "cell_type": "markdown",
      "metadata": {
        "id": "VMKtbj8_0-0n"
      },
      "source": [
        "Then, first select the relevant Prompt (you get the default Prompt if none can be matched to the query). The **chain** is created with another LangChain function, which is `MultiPromptChain.from_prompts`"
      ]
    },
    {
      "cell_type": "code",
      "execution_count": null,
      "metadata": {
        "id": "gNpPIgx6EaEa"
      },
      "outputs": [],
      "source": [
        "# Define a default prompt\n",
        "default_prompt = PromptTemplate.from_template(default_prompt_template)\n",
        "default_chain = LLMChain(llm=llm, prompt=default_prompt)"
      ]
    },
    {
      "cell_type": "code",
      "execution_count": null,
      "metadata": {
        "id": "0fcNrLzgFYuh"
      },
      "outputs": [],
      "source": [
        "# Create the MultiPromptChain with a default chain\n",
        "chain = MultiPromptChain.from_prompts(llm, prompt_infos, default_chain=default_chain)"
      ]
    },
    {
      "cell_type": "markdown",
      "metadata": {
        "id": "ItfU01KD01wz"
      },
      "source": [
        "Choose ONE of the queries below. Then you can write your own and experiment. You can also modify the similarity threshold for embeddings-based semantic similarity in the code."
      ]
    },
    {
      "cell_type": "code",
      "execution_count": null,
      "metadata": {
        "id": "tX5WO7N1Ecxp"
      },
      "outputs": [],
      "source": [
        "query = \"How do I code a dictionary  search?\""
      ]
    },
    {
      "cell_type": "code",
      "execution_count": null,
      "metadata": {
        "id": "mkcrzKYqBiXn"
      },
      "outputs": [],
      "source": [
        "query = \"How do I develop an inbound strategy for my new product?\""
      ]
    },
    {
      "cell_type": "code",
      "execution_count": null,
      "metadata": {
        "id": "UeedJ2BNF3Hp"
      },
      "outputs": [],
      "source": [
        "query = \"What is the capital of South Africa?\""
      ]
    },
    {
      "cell_type": "markdown",
      "metadata": {
        "id": "_tIHEZBY1VrY"
      },
      "source": [
        "You can run the chain with the query as input. NOTE: there are different ways to run a LangChain chain (`.run` , `.invoke`)"
      ]
    },
    {
      "cell_type": "code",
      "execution_count": null,
      "metadata": {
        "colab": {
          "base_uri": "https://localhost:8080/"
        },
        "id": "2N2RGPNxBfl_",
        "outputId": "3d8fa51d-29b5-455b-857f-4d5816be8120"
      },
      "outputs": [
        {
          "name": "stdout",
          "output_type": "stream",
          "text": [
            "To craft your inbound marketing with flair,  \n",
            "Start with a strategy, make sure you care.  \n",
            "First define your buyer, know them well,  \n",
            "Create personas, their needs you must tell.  \n",
            "\n",
            "Next, produce content—blogs, video, or guides,  \n",
            "That answers their questions and helps them decide.  \n",
            "Optimize for search, let keywords be your friend,  \n",
            "With SEO tactics, your reach will extend.  \n",
            "\n",
            "Engage on social, be vibrant and bright,  \n",
            "Share posts that resonate, bring delight.  \n",
            "Email campaigns should nurture the lead,  \n",
            "Personalized messages plant the right seed.  \n",
            "\n",
            "Track all your metrics, see what aligns,  \n",
            "Refine your approach as your data shines.  \n",
            "With patience and care, as you steadily grow,  \n",
            "Your inbound strategy will steal the show!\n"
          ]
        }
      ],
      "source": [
        "# You can now pass the query to the chain and get the response\n",
        "response = chain.run(input=query)\n",
        "print(response)"
      ]
    },
    {
      "cell_type": "markdown",
      "metadata": {
        "id": "TGQkS5E_GbRb"
      },
      "source": [
        "# LangGraph Version (actual LangChain tutorial, modified for Prompts)"
      ]
    },
    {
      "cell_type": "code",
      "execution_count": null,
      "metadata": {
        "id": "4a864796-ec89-4962-87b3-633f90687e1d"
      },
      "outputs": [],
      "source": [
        "%%capture\n",
        "!pip install -qU langgraph"
      ]
    },
    {
      "cell_type": "code",
      "execution_count": null,
      "metadata": {
        "id": "ADXZLZuTG8wO"
      },
      "outputs": [],
      "source": [
        "from operator import itemgetter\n",
        "from typing import Literal\n",
        "\n",
        "from langchain_core.output_parsers import StrOutputParser\n",
        "from langchain_core.prompts import ChatPromptTemplate\n",
        "from langchain_core.runnables import RunnableConfig\n",
        "from langchain_openai import ChatOpenAI\n",
        "from langgraph.graph import END, START, StateGraph\n",
        "from typing_extensions import TypedDict\n",
        "\n",
        "llm = ChatOpenAI(model=\"gpt-4o-mini\")"
      ]
    },
    {
      "cell_type": "code",
      "execution_count": null,
      "metadata": {
        "id": "WBM1T0ZdHALi"
      },
      "outputs": [],
      "source": [
        "# Define the prompts we will route to\n",
        "prompt_1 = ChatPromptTemplate.from_messages(\n",
        "    [\n",
        "        (\"system\", \"\"\"You are an expert programmer. Generate concise but readable code. \\\n",
        "         Unless otherwise specified, you should only answer in Javascript. \\\n",
        "         Produce code as requested:\"\"\"),\n",
        "        (\"human\", \"{input}\"),\n",
        "    ]\n",
        ")\n",
        "prompt_2 = ChatPromptTemplate.from_messages(\n",
        "    [\n",
        "        (\"system\", \"\"\"You are an expert on marketing. \\\n",
        "         You will answer in rhymes:\"\"\"),\n",
        "        (\"human\", \"{input}\"),\n",
        "    ]\n",
        ")"
      ]
    },
    {
      "cell_type": "code",
      "execution_count": null,
      "metadata": {
        "id": "cf1edd2b-7592-47f4-ba8d-94a56742a585"
      },
      "outputs": [],
      "source": [
        "# Construct the chains we will route to. These format the input query\n",
        "# into the respective prompt, run it through a chat model, and cast\n",
        "# the result to a string.\n",
        "chain_1 = prompt_1 | llm | StrOutputParser()\n",
        "chain_2 = prompt_2 | llm | StrOutputParser()"
      ]
    },
    {
      "cell_type": "code",
      "execution_count": null,
      "metadata": {
        "id": "G7m3x-XhHUG8"
      },
      "outputs": [],
      "source": [
        "# Next: define the chain that selects which branch to route to.\n",
        "# Here we will take advantage of tool-calling features to force\n",
        "# the output to select one of two desired branches.\n",
        "route_system = \"Route the user's query to either prompt.\"\n",
        "route_prompt = ChatPromptTemplate.from_messages(\n",
        "    [\n",
        "        (\"system\", route_system),\n",
        "        (\"human\", \"{input}\"),\n",
        "    ]\n",
        ")"
      ]
    },
    {
      "cell_type": "code",
      "execution_count": null,
      "metadata": {
        "id": "lWtm2RnfHS1f"
      },
      "outputs": [],
      "source": [
        "# Define schema for output:\n",
        "class RouteQuery(TypedDict):\n",
        "    \"\"\"Route query to destination expert.\"\"\"\n",
        "\n",
        "    destination: Literal[\"programming\", \"marketing\"]\n",
        "\n",
        "\n",
        "route_chain = route_prompt | llm.with_structured_output(RouteQuery)"
      ]
    },
    {
      "cell_type": "code",
      "execution_count": null,
      "metadata": {
        "id": "I1Qn22lxHNiD"
      },
      "outputs": [],
      "source": [
        "# For LangGraph, we will define the state of the graph to hold the query,\n",
        "# destination, and final answer.\n",
        "class State(TypedDict):\n",
        "    query: str\n",
        "    destination: RouteQuery\n",
        "    answer: str\n",
        "\n",
        "\n",
        "# We define functions for each node, including routing the query:\n",
        "async def route_query(state: State, config: RunnableConfig):\n",
        "    destination = await route_chain.ainvoke(state[\"query\"], config)\n",
        "    return {\"destination\": destination}\n",
        "\n",
        "\n",
        "# And one node for each prompt\n",
        "async def prompt_1(state: State, config: RunnableConfig):\n",
        "    return {\"answer\": await chain_1.ainvoke(state[\"query\"], config)}\n",
        "\n",
        "\n",
        "async def prompt_2(state: State, config: RunnableConfig):\n",
        "    return {\"answer\": await chain_2.ainvoke(state[\"query\"], config)}\n",
        "\n",
        "\n",
        "# We then define logic that selects the prompt based on the classification\n",
        "def select_node(state: State) -> Literal[\"prompt_1\", \"prompt_2\"]:\n",
        "    if state[\"destination\"] == \"animal\":\n",
        "        return \"prompt_1\"\n",
        "    else:\n",
        "        return \"prompt_2\""
      ]
    },
    {
      "cell_type": "markdown",
      "metadata": {
        "id": "fpTTUXD2K1Zw"
      },
      "source": []
    },
    {
      "cell_type": "code",
      "execution_count": null,
      "metadata": {
        "id": "EzgH1Hi0K0j_"
      },
      "outputs": [],
      "source": []
    },
    {
      "cell_type": "markdown",
      "metadata": {
        "id": "zfmWKf3IK1_I"
      },
      "source": [
        "This essentially builds a graph that handles the routing of the query to a particular chain in LangChain."
      ]
    },
    {
      "cell_type": "code",
      "execution_count": null,
      "metadata": {
        "id": "YzvQm1DeHHMM"
      },
      "outputs": [],
      "source": [
        "# Finally, assemble the multi-prompt chain. This is a sequence of two steps:\n",
        "# 1) Select \"animal\" or \"vegetable\" via the route_chain, and collect the answer\n",
        "# alongside the input query.\n",
        "# 2) Route the input query to chain_1 or chain_2, based on the\n",
        "# selection.\n",
        "graph = StateGraph(State)\n",
        "graph.add_node(\"route_query\", route_query)\n",
        "graph.add_node(\"prompt_1\", prompt_1)\n",
        "graph.add_node(\"prompt_2\", prompt_2)\n",
        "\n",
        "graph.add_edge(START, \"route_query\")\n",
        "graph.add_conditional_edges(\"route_query\", select_node)\n",
        "graph.add_edge(\"prompt_1\", END)\n",
        "graph.add_edge(\"prompt_2\", END)\n",
        "app = graph.compile()"
      ]
    },
    {
      "cell_type": "code",
      "execution_count": null,
      "metadata": {
        "colab": {
          "base_uri": "https://localhost:8080/",
          "height": 350
        },
        "id": "92ef8d86-daa6-4ff3-b722-468e7cf8bcb2",
        "outputId": "e88f48cd-8e04-4400-e3fc-a5bbd3444241"
      },
      "outputs": [
        {
          "data": {
            "image/png": "[encoded data removed]",
            "text/plain": [
              "<IPython.core.display.Image object>"
            ]
          },
          "execution_count": 26,
          "metadata": {},
          "output_type": "execute_result"
        }
      ],
      "source": [
        "from IPython.display import Image\n",
        "\n",
        "Image(app.get_graph().draw_mermaid_png())"
      ]
    },
    {
      "cell_type": "markdown",
      "metadata": {
        "id": "IBBjguoaKYrD"
      },
      "source": [
        "You can try the previous queries below"
      ]
    },
    {
      "cell_type": "code",
      "execution_count": null,
      "metadata": {
        "colab": {
          "base_uri": "https://localhost:8080/"
        },
        "id": "61838f81-4e60-445f-9c05-563e3520ab33",
        "outputId": "505472b1-9423-4cdd-def7-2c2267d5839c"
      },
      "outputs": [
        {
          "name": "stdout",
          "output_type": "stream",
          "text": [
            "{'destination': 'programming'}\n",
            "In Python, let’s make a class so fine,  \n",
            "To craft a directed graph, it will surely shine.  \n",
            "With a string of data, comma-separated,  \n",
            "We'll store the edges, all nicely fated.  \n",
            "\n",
            "```python\n",
            "class DirectedGraph:\n",
            "    def __init__(self, data_string):\n",
            "        self.graph = {}\n",
            "        # Split the string by commas, remove spaces too,  \n",
            "        edges = [pair.strip() for pair in data_string.split(',')]\n",
            "        for edge in edges:\n",
            "            if edge:  # Ensure it’s not an empty string\n",
            "                start, end = edge.split('->')  # Finding the arrow in between\n",
            "                if start not in self.graph:\n",
            "                    self.graph[start] = []\n",
            "                self.graph[start].append(end.strip())\n",
            "\n",
            "    def display(self):\n",
            "        for key, value in self.graph.items():\n",
            "            print(f\"{key} -> {', '.join(value)}\")\n",
            "\n",
            "# Example usage:\n",
            "data = \"A->B, A->C, B->D, C->D\"\n",
            "graph = DirectedGraph(data)\n",
            "graph.display() \n",
            "```\n",
            "\n",
            "In this code, we guide the flow,  \n",
            "From start to end, watch the edges grow.  \n",
            "With each connection, the graph will thrive,  \n",
            "Creating a structure where ideas can jive!\n"
          ]
        }
      ],
      "source": [
        "state = await app.ainvoke({\"query\": \"Can you develop a python class that creates a directed graph out of a comma separated string input\"})\n",
        "print(state[\"destination\"])\n",
        "print(state[\"answer\"])"
      ]
    },
    {
      "cell_type": "markdown",
      "metadata": {
        "id": "e7e46205-9d80-45b8-a3d5-cfbc8ebbe19a"
      },
      "source": [
        "In the [LangSmith trace](https://smith.langchain.com/public/1017a9d2-2d2a-4954-a5fd-5689632b4c5f/r) we can see the tool call that routed the query and the prompt that was selected to generate the answer.\n",
        "\n",
        "</details>\n",
        "\n",
        "## Overview:\n",
        "\n",
        "- Under the hood, `MultiPromptChain` routed the query by instructing the LLM to generate JSON-formatted text, and parses out the intended destination. It took a registry of string prompt templates as input.\n",
        "- The LangGraph implementation, implemented above via lower-level primitives, uses tool-calling to route to arbitrary chains. In this example, the chains include chat model templates and chat models."
      ]
    }
  ],
  "metadata": {
    "colab": {
      "provenance": []
    },
    "kernelspec": {
      "display_name": "Python 3",
      "name": "python3"
    },
    "language_info": {
      "name": "python"
    }
  },
  "nbformat": 4,
  "nbformat_minor": 0
}
